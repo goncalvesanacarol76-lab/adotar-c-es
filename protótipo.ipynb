{
  "nbformat": 4,
  "nbformat_minor": 0,
  "metadata": {
    "colab": {
      "provenance": [],
      "authorship_tag": "ABX9TyM2Z25ZU2pVPUZ8lq71lSno",
      "include_colab_link": true
    },
    "kernelspec": {
      "name": "python3",
      "display_name": "Python 3"
    },
    "language_info": {
      "name": "python"
    }
  },
  "cells": [
    {
      "cell_type": "markdown",
      "metadata": {
        "id": "view-in-github",
        "colab_type": "text"
      },
      "source": [
        "<a href=\"https://colab.research.google.com/github/goncalvesanacarol76-lab/adotar-c-es/blob/main/prot%C3%B3tipo.ipynb\" target=\"_parent\"><img src=\"https://colab.research.google.com/assets/colab-badge.svg\" alt=\"Open In Colab\"/></a>"
      ]
    },
    {
      "cell_type": "code",
      "source": [
        "!pip install Pillow"
      ],
      "metadata": {
        "colab": {
          "base_uri": "https://localhost:8080/"
        },
        "id": "NTjfZr2-zVKz",
        "outputId": "75fba246-6564-4fa6-c131-bc28158666b0"
      },
      "execution_count": 2,
      "outputs": [
        {
          "output_type": "stream",
          "name": "stdout",
          "text": [
            "Requirement already satisfied: Pillow in /usr/local/lib/python3.12/dist-packages (11.3.0)\n"
          ]
        }
      ]
    },
    {
      "cell_type": "code",
      "source": [
        "import io\n",
        "from PIL import Image\n",
        "from google.colab import files\n",
        "\n",
        "def provador_virtual():\n",
        "    \"\"\"\n",
        "    Permite ao usuário carregar fotos e faz a sobreposição da roupa.\n",
        "    \"\"\"\n",
        "    print(\"Por favor, carregue a foto da pessoa:\")\n",
        "    uploaded_person = files.upload()\n",
        "\n",
        "    if not uploaded_person:\n",
        "        print(\"Nenhuma foto da pessoa foi carregada. Tente novamente.\")\n",
        "        return\n",
        "\n",
        "    file_name_person = next(iter(uploaded_person.keys()))\n",
        "    imagem_base_bytes = uploaded_person[file_name_person]\n",
        "    imagem_base = Image.open(io.BytesIO(imagem_base_bytes)).convert(\"RGBA\")\n",
        "\n",
        "    print(\"\\nPor favor, carregue a foto da roupa:\")\n",
        "    uploaded_clothing = files.upload()\n",
        "\n",
        "    if not uploaded_clothing:\n",
        "        print(\"Nenhuma foto da roupa foi carregada. Tente novamente.\")\n",
        "        return\n",
        "\n",
        "    file_name_clothing = next(iter(uploaded_clothing.keys()))\n",
        "    imagem_sobreposicao_bytes = uploaded_clothing[file_name_clothing]\n",
        "    imagem_sobreposicao = Image.open(io.BytesIO(imagem_sobreposicao_bytes)).convert(\"RGBA\")\n",
        "\n",
        "    largura_nova = int(imagem_base.width * 0.6)\n",
        "    altura_nova = int(imagem_sobreposicao.height * (largura_nova / imagem_sobreposicao.width))\n",
        "    imagem_sobreposicao = imagem_sobreposicao.resize((largura_nova, altura_nova))\n",
        "\n",
        "    posicao_roupa = (60, 75)\n",
        "\n",
        "    nova_imagem = Image.new(\"RGBA\", imagem_base.size, (255, 255, 255, 0))\n",
        "    nova_imagem.paste(imagem_sobreposicao, posicao_roupa, imagem_sobreposicao)\n",
        "\n",
        "    imagem_final = Image.alpha_composite(imagem_base, nova_imagem)\n",
        "\n",
        "    imagem_final.save(\"resultado.png\")\n",
        "    print(\"\\n--- Resultado gerado! O arquivo 'resultado.png' foi salvo. ---\")\n",
        "\n",
        "if __name__ == \"__main__\":\n",
        "    provador_virtual()\n",
        ""
      ],
      "metadata": {
        "collapsed": true,
        "id": "hxoZ8aaA5xBo"
      },
      "execution_count": null,
      "outputs": []
    }
  ]
}